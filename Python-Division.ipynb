{
 "cells": [
  {
   "cell_type": "markdown",
   "id": "7d3002ca",
   "metadata": {},
   "source": [
    "The provided code stub reads two integers,a and b, from STDIN.\n",
    "\n",
    "Add logic to print two lines. The first line should contain the result of integer division, a//b. \n",
    "The second line should contain the result of float division, a/b.\n",
    "\n",
    "No rounding or formatting is necessary.\n",
    "\n",
    "Example\n",
    "a = 3\n",
    "b = 5\n",
    "\n",
    "The result of the integer division .\n",
    "The result of the float division is ."
   ]
  },
  {
   "cell_type": "code",
   "execution_count": 6,
   "id": "db65d535",
   "metadata": {},
   "outputs": [
    {
     "name": "stdout",
     "output_type": "stream",
     "text": [
      "3\n",
      "5\n",
      "0\n",
      "0.6\n"
     ]
    }
   ],
   "source": [
    "if __name__ == '__main__':\n",
    "    a = int(input())\n",
    "    b = int(input())\n",
    "    c1 = a//b\n",
    "    c2 = a/b\n",
    "    print(c1)\n",
    "    print(c2)"
   ]
  },
  {
   "cell_type": "code",
   "execution_count": null,
   "id": "13baa3aa",
   "metadata": {},
   "outputs": [],
   "source": []
  }
 ],
 "metadata": {
  "kernelspec": {
   "display_name": "Python 3 (ipykernel)",
   "language": "python",
   "name": "python3"
  },
  "language_info": {
   "codemirror_mode": {
    "name": "ipython",
    "version": 3
   },
   "file_extension": ".py",
   "mimetype": "text/x-python",
   "name": "python",
   "nbconvert_exporter": "python",
   "pygments_lexer": "ipython3",
   "version": "3.9.13"
  }
 },
 "nbformat": 4,
 "nbformat_minor": 5
}
