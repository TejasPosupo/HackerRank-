{
 "cells": [
  {
   "cell_type": "markdown",
   "id": "85ab4fd0",
   "metadata": {},
   "source": [
    "The provided code stub reads and integer,n, from STDIN. For all non-negative integers i<n, print(i**2) ."
   ]
  },
  {
   "cell_type": "code",
   "execution_count": null,
   "id": "b669e3be",
   "metadata": {},
   "outputs": [],
   "source": [
    "#Forloop"
   ]
  },
  {
   "cell_type": "code",
   "execution_count": 1,
   "id": "0ec8126a",
   "metadata": {},
   "outputs": [
    {
     "name": "stdout",
     "output_type": "stream",
     "text": [
      "4\n",
      "0\n",
      "1\n",
      "4\n",
      "9\n"
     ]
    }
   ],
   "source": [
    "if __name__ == '__main__':\n",
    "    n = int(input())\n",
    "    for i in range(n):\n",
    "        print(i**2)"
   ]
  }
 ],
 "metadata": {
  "kernelspec": {
   "display_name": "Python 3 (ipykernel)",
   "language": "python",
   "name": "python3"
  },
  "language_info": {
   "codemirror_mode": {
    "name": "ipython",
    "version": 3
   },
   "file_extension": ".py",
   "mimetype": "text/x-python",
   "name": "python",
   "nbconvert_exporter": "python",
   "pygments_lexer": "ipython3",
   "version": "3.9.13"
  }
 },
 "nbformat": 4,
 "nbformat_minor": 5
}
